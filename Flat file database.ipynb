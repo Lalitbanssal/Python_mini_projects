{
 "cells": [
  {
   "cell_type": "markdown",
   "id": "82ea5477",
   "metadata": {},
   "source": [
    "Question -1 Data Ingestion  \n"
   ]
  },
  {
   "cell_type": "code",
   "execution_count": 31,
   "id": "7fbf2b50",
   "metadata": {},
   "outputs": [],
   "source": [
    "def data_insert(name,phone_no,email,group):\n",
    "\n",
    "    with open(\"database.txt\",\"r\") as f:\n",
    "        line=f.readlines()\n",
    "        if not line:\n",
    "            id=1\n",
    "        else:\n",
    "            a=line[-1].strip()\n",
    "            a=a.split(',')\n",
    "            id=int(a[0])+1\n",
    "\n",
    "    with open(\"database.txt\",'a+') as f:\n",
    "        f.write(f\"{id},{name},{phone_no},{email},{group}\\n\")\n"
   ]
  },
  {
   "cell_type": "markdown",
   "id": "f621d55f",
   "metadata": {},
   "source": [
    "Question -2 Search "
   ]
  },
  {
   "cell_type": "code",
   "execution_count": 27,
   "id": "741c761a",
   "metadata": {},
   "outputs": [],
   "source": [
    "def search_via_name(name):\n",
    "    with open(\"database.txt\",\"r\") as f:\n",
    "        line=f.readlines()\n",
    "        result=[]\n",
    "        for i in line:\n",
    "            i=i.strip().split(',')\n",
    "            if name.lower() in i[1].lower():\n",
    "                result.append(i)\n",
    "\n",
    "    return result\n",
    "\n"
   ]
  },
  {
   "cell_type": "code",
   "execution_count": 29,
   "id": "3398c0d4",
   "metadata": {},
   "outputs": [],
   "source": [
    "def search_via_group(group):\n",
    "    with open(\"database.txt\",\"r\") as f:\n",
    "        line=f.readlines()\n",
    "        result=[]\n",
    "        for i in line:\n",
    "            i=i.strip().split(',')\n",
    "            if group.lower() in i[-1].lower():\n",
    "                result.append(i)\n",
    "\n",
    "    return result\n",
    "\n"
   ]
  },
  {
   "cell_type": "code",
   "execution_count": null,
   "id": "58b6e3a2",
   "metadata": {},
   "outputs": [],
   "source": [
    "Question -3 Delete"
   ]
  },
  {
   "cell_type": "code",
   "execution_count": 33,
   "id": "a7f91b2d",
   "metadata": {},
   "outputs": [],
   "source": [
    "def delete(context):\n",
    "    with open(\"database.txt\",\"r\") as f:\n",
    "        line=f.readlines()\n",
    "        result=[]\n",
    "        id=1\n",
    "        for i in line:\n",
    "            i=i.strip().split(',')\n",
    "            if (context.lower() in i[1].lower()) or (context.lower() in i[2].lower()) or (context.lower() in i[3].lower()) or (context.lower() in i[4].lower()) :\n",
    "                continue\n",
    "            else:\n",
    "                ab=f\"{id},\" + \",\".join(i[1:])\n",
    "                result.append(ab)\n",
    "                id+=1\n",
    "\n",
    "    with open(\"database.txt\", \"w\") as f:\n",
    "        f.writelines(result)"
   ]
  },
  {
   "cell_type": "code",
   "execution_count": null,
   "id": "d68e55d2",
   "metadata": {},
   "outputs": [],
   "source": [
    "a=input(\"Enter the value \")\n",
    "\n",
    "if a=='data insert':\n",
    "    name=input(\"Enter the name\")\n",
    "    phone_no=input(\"Enter the phone number\")\n",
    "    email=input(\"Enter the email address\")\n",
    "    group=input(\"Enter the group from which it belongs\")\n",
    "    data_insert(name,phone_no,email,group)\n",
    "elif a=='search_via_name':\n",
    "    name=input(\"Enter the name for which you want to extract all the entries\")\n",
    "    abc=search_via_name(name)\n",
    "    print(abc)\n",
    "elif a=='search_via_group':\n",
    "    group=input(\"Enter the group for which you want to extract all the entries\")\n",
    "    abc=search_via_group(group)\n",
    "    print(abc)\n",
    "else:\n",
    "    print(\"You are in the delete group\")\n",
    "    context=input(\"Enter the context name you want to elimante from the database.txt\")\n",
    "    delete(context)"
   ]
  }
 ],
 "metadata": {
  "kernelspec": {
   "display_name": "Python 3",
   "language": "python",
   "name": "python3"
  },
  "language_info": {
   "codemirror_mode": {
    "name": "ipython",
    "version": 3
   },
   "file_extension": ".py",
   "mimetype": "text/x-python",
   "name": "python",
   "nbconvert_exporter": "python",
   "pygments_lexer": "ipython3",
   "version": "3.12.9"
  }
 },
 "nbformat": 4,
 "nbformat_minor": 5
}
